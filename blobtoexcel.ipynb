{
 "cells": [
  {
   "cell_type": "markdown",
   "metadata": {},
   "source": [
    "# Azure Storage에서 엑셀 연결하여 uri 가져오기"
   ]
  },
  {
   "cell_type": "markdown",
   "metadata": {},
   "source": [
    "필요한 라이브러리 설치"
   ]
  },
  {
   "cell_type": "code",
   "execution_count": null,
   "metadata": {},
   "outputs": [],
   "source": [
    "# pip install azure-storage-blob pandas openpyxl"
   ]
  },
  {
   "cell_type": "code",
   "execution_count": 1,
   "metadata": {},
   "outputs": [],
   "source": [
    "import pandas as pd\n",
    "import os\n",
    "from azure.storage.blob import BlobServiceClient"
   ]
  },
  {
   "cell_type": "markdown",
   "metadata": {},
   "source": [
    "Azure Storage 정보"
   ]
  },
  {
   "cell_type": "code",
   "execution_count": null,
   "metadata": {},
   "outputs": [],
   "source": [
    "# 1️⃣ Azure Storage 설정\n",
    "STORAGE_CONNECTION_STRING = \"\"\n",
    "CONTAINER_NAME = \"clothimage\"\n",
    "STORAGE_ACCOUNT_NAME = \"chilldata\"\n",
    "\n",
    "# 2️⃣ 엑셀 파일 경로\n",
    "EXCEL_PATH = \"outer_data.xlsx\""
   ]
  },
  {
   "cell_type": "markdown",
   "metadata": {},
   "source": [
    "### outer data로 미리 해보기"
   ]
  },
  {
   "cell_type": "code",
   "execution_count": 8,
   "metadata": {},
   "outputs": [
    {
     "name": "stdout",
     "output_type": "stream",
     "text": [
      "📌 엑셀 컬럼명: Index(['ID', 'brand', 'itemName', 'price', 'productLink', 'imageFileName',\n",
      "       'imageLinkBlob'],\n",
      "      dtype='object')\n",
      "✅ outer_data.xlsx 업데이트 완료!\n"
     ]
    },
    {
     "name": "stderr",
     "output_type": "stream",
     "text": [
      "/var/folders/n_/2h1xg2xs7dxdc2fc9ywry06w0000gn/T/ipykernel_3588/1758479277.py:20: FutureWarning: Setting an item of incompatible dtype is deprecated and will raise an error in a future version of pandas. Value 'https://chilldata.blob.core.windows.net/clothimage/O1.jpg' has dtype incompatible with float64, please explicitly cast to a compatible dtype first.\n",
      "  df.at[index, \"imageLinkBlob\"] = generate_blob_url(file_name)\n"
     ]
    }
   ],
   "source": [
    "# 3️⃣ Azure Blob URL 생성 함수\n",
    "def generate_blob_url(file_name):\n",
    "    return f\"https://{STORAGE_ACCOUNT_NAME}.blob.core.windows.net/{CONTAINER_NAME}/{file_name}\"\n",
    "\n",
    "# 4️⃣ 엑셀 데이터 업데이트\n",
    "def update_excel_with_blob_urls(excel_path):\n",
    "    df = pd.read_excel(excel_path)\n",
    "\n",
    "    # 🔥 컬럼명 정리 (공백 제거)\n",
    "    df.columns = df.columns.str.strip()\n",
    "    print(\"📌 엑셀 컬럼명:\", df.columns)  # 컬럼 확인\n",
    "\n",
    "    # ✅ \"imageFileName\" 열이 있는지 확인 후 처리\n",
    "    if \"imageFileName\" not in df.columns:\n",
    "        raise KeyError(\"❌ 'imageFileName' 열이 엑셀에 없습니다. 열 이름을 확인하세요.\")\n",
    "\n",
    "    for index, row in df.iterrows():\n",
    "        file_name = str(row[\"imageFileName\"]).strip()  # 파일명 정리\n",
    "        if pd.notna(file_name):  # 파일명이 있는 경우\n",
    "            df.at[index, \"imageLinkBlob\"] = generate_blob_url(file_name)\n",
    "\n",
    "    # 5️⃣ 엑셀 업데이트 (덮어쓰기)\n",
    "    df.to_excel(excel_path, index=False)\n",
    "    print(f\"✅ {excel_path} 업데이트 완료!\")\n",
    "\n",
    "# 실행\n",
    "update_excel_with_blob_urls(EXCEL_PATH)\n"
   ]
  },
  {
   "cell_type": "markdown",
   "metadata": {},
   "source": [
    "# 엑셀 전처리\n",
    "  - 전체 데이터"
   ]
  },
  {
   "cell_type": "code",
   "execution_count": null,
   "metadata": {},
   "outputs": [
    {
     "name": "stdout",
     "output_type": "stream",
     "text": [
      "Updated file saved to: updated_clothimage.xlsx\n"
     ]
    }
   ],
   "source": [
    "import pandas as pd\n",
    "import re\n",
    "\n",
    "def update_ids(file_path, save_path):\n",
    "    df = pd.read_excel(file_path)\n",
    "    \n",
    "    outer_count = 1\n",
    "    top_count = 1\n",
    "    pants_count = 1\n",
    "    dress_skirt_count = 1\n",
    "    \n",
    "    def generate_id(image_name):\n",
    "        nonlocal outer_count, top_count, pants_count, dress_skirt_count\n",
    "        \n",
    "        if re.match(r\"O\\d+\\.jpg\", image_name):\n",
    "            new_id = f\"outer_id_{outer_count}\"\n",
    "            outer_count += 1\n",
    "        elif re.match(r\"T\\d+\\.jpg\", image_name):\n",
    "            new_id = f\"top_id_{top_count}\"\n",
    "            top_count += 1\n",
    "        elif \"pants\" in image_name.lower() or re.match(r\"Dress_skirt_\\d+\\.jpg\", image_name):\n",
    "            new_id = f\"pants_id_{pants_count}\"\n",
    "            pants_count += 1\n",
    "        elif \"dress_skirt\" in image_name.lower():\n",
    "            new_id = f\"dress_skirt_id_{dress_skirt_count}\"\n",
    "            dress_skirt_count += 1\n",
    "        else:\n",
    "            new_id = \"unknown_id\"\n",
    "        \n",
    "        return new_id\n",
    "    \n",
    "    df[\"ID\"] = df[\"imageFileName\"].apply(generate_id)\n",
    "    df.to_excel(save_path, index=False)\n",
    "    print(f\"Updated file saved to: {save_path}\")\n",
    "\n",
    "# 파일 경로 설정\n",
    "file_path = \"./data/clothimage.xlsx\"\n",
    "save_path = \"./data/updated_clothimage.xlsx\"\n",
    "update_ids(file_path, save_path)\n"
   ]
  },
  {
   "cell_type": "markdown",
   "metadata": {},
   "source": [
    "# 전체 데이터 엑셀로 Azure URI도 정리"
   ]
  },
  {
   "cell_type": "code",
   "execution_count": null,
   "metadata": {},
   "outputs": [],
   "source": [
    "# 1️⃣ Azure Storage 설정\n"
   ]
  },
  {
   "cell_type": "code",
   "execution_count": 12,
   "metadata": {},
   "outputs": [
    {
     "name": "stdout",
     "output_type": "stream",
     "text": [
      "📌 엑셀 컬럼명: Index(['ID', 'brand', 'itemName', 'price', 'productLink', 'imageFileName',\n",
      "       'imageLinkBlob'],\n",
      "      dtype='object')\n"
     ]
    },
    {
     "name": "stderr",
     "output_type": "stream",
     "text": [
      "/var/folders/n_/2h1xg2xs7dxdc2fc9ywry06w0000gn/T/ipykernel_3588/2020684113.py:20: FutureWarning: Setting an item of incompatible dtype is deprecated and will raise an error in a future version of pandas. Value 'https://chilldata.blob.core.windows.net/clothimage/O1.jpg' has dtype incompatible with float64, please explicitly cast to a compatible dtype first.\n",
      "  df.at[index, \"imageLinkBlob\"] = generate_blob_url(file_name)\n"
     ]
    },
    {
     "name": "stdout",
     "output_type": "stream",
     "text": [
      "✅ data/updated_clothimage.xlsx 업데이트 완료!\n"
     ]
    }
   ],
   "source": [
    "# 3️⃣ Azure Blob URL 생성 함수\n",
    "def generate_blob_url(file_name):\n",
    "    return f\"https://{STORAGE_ACCOUNT_NAME}.blob.core.windows.net/{CONTAINER_NAME}/{file_name}\"\n",
    "\n",
    "# 4️⃣ 엑셀 데이터 업데이트\n",
    "def update_excel_with_blob_urls(excel_path):\n",
    "    df = pd.read_excel(excel_path)\n",
    "\n",
    "    # 🔥 컬럼명 정리 (공백 제거)\n",
    "    df.columns = df.columns.str.strip()\n",
    "    print(\"📌 엑셀 컬럼명:\", df.columns)  # 컬럼 확인\n",
    "\n",
    "    # ✅ \"imageFileName\" 열이 있는지 확인 후 처리\n",
    "    if \"imageFileName\" not in df.columns:\n",
    "        raise KeyError(\"❌ 'imageFileName' 열이 엑셀에 없습니다. 열 이름을 확인하세요.\")\n",
    "\n",
    "    for index, row in df.iterrows():\n",
    "        file_name = str(row[\"imageFileName\"]).strip()  # 파일명 정리\n",
    "        if pd.notna(file_name):  # 파일명이 있는 경우\n",
    "            df.at[index, \"imageLinkBlob\"] = generate_blob_url(file_name)\n",
    "\n",
    "    # 5️⃣ 엑셀 업데이트 (덮어쓰기)\n",
    "    df.to_excel(excel_path, index=False)\n",
    "    print(f\"✅ {excel_path} 업데이트 완료!\")\n",
    "\n",
    "# 실행\n",
    "update_excel_with_blob_urls(EXCEL_PATH)"
   ]
  },
  {
   "cell_type": "code",
   "execution_count": null,
   "metadata": {},
   "outputs": [],
   "source": []
  }
 ],
 "metadata": {
  "kernelspec": {
   "display_name": "msaimlproject1",
   "language": "python",
   "name": "python3"
  },
  "language_info": {
   "codemirror_mode": {
    "name": "ipython",
    "version": 3
   },
   "file_extension": ".py",
   "mimetype": "text/x-python",
   "name": "python",
   "nbconvert_exporter": "python",
   "pygments_lexer": "ipython3",
   "version": "3.13.2"
  }
 },
 "nbformat": 4,
 "nbformat_minor": 2
}
